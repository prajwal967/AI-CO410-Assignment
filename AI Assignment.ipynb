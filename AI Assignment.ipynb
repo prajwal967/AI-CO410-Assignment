{
 "cells": [
  {
   "cell_type": "code",
   "execution_count": 1,
   "metadata": {},
   "outputs": [
    {
     "name": "stderr",
     "output_type": "stream",
     "text": [
      "Using TensorFlow backend.\n"
     ]
    }
   ],
   "source": [
    "import numpy as np\n",
    "import keras\n",
    "from keras.datasets import mnist\n",
    "from keras.models import Sequential\n",
    "from keras.layers import Dense, Dropout, Activation, Flatten\n",
    "from keras.layers import Convolution2D, MaxPooling2D\n",
    "from keras.utils import np_utils\n",
    "from keras.optimizers import SGD, Adagrad, RMSprop\n",
    "np.random.seed(13)"
   ]
  },
  {
   "cell_type": "code",
   "execution_count": 2,
   "metadata": {},
   "outputs": [],
   "source": [
    "#Loading the training and testing data\n",
    "(X_train, Y_train), (X_test, Y_test) = mnist.load_data()\n",
    "X_train = X_train.reshape(60000, 784)\n",
    "X_test = X_test.reshape(10000, 784)\n",
    "X_train = X_train.astype('float32')\n",
    "X_test = X_test.astype('float32')\n",
    "#X_train /= 255\n",
    "#X_test /= 255"
   ]
  },
  {
   "cell_type": "code",
   "execution_count": 3,
   "metadata": {
    "collapsed": true
   },
   "outputs": [],
   "source": [
    "#Normalize the data\n",
    "X_train -= np.mean(X_train)\n",
    "X_train /= np.std(X_train)\n",
    "X_test -= np.mean(X_test)\n",
    "X_test /= np.std(X_test)"
   ]
  },
  {
   "cell_type": "code",
   "execution_count": 4,
   "metadata": {},
   "outputs": [],
   "source": [
    "#Converting the classes to its binary categorical form\n",
    "nb_classes = 10\n",
    "Y_train = np_utils.to_categorical(Y_train, nb_classes)\n",
    "Y_test = np_utils.to_categorical(Y_test, nb_classes)"
   ]
  },
  {
   "cell_type": "code",
   "execution_count": 5,
   "metadata": {
    "collapsed": true
   },
   "outputs": [],
   "source": [
    "#Initializing the values for the multi layer perceptron\n",
    "batch_size = 128\n",
    "nb_epoch = 20"
   ]
  },
  {
   "cell_type": "code",
   "execution_count": 6,
   "metadata": {},
   "outputs": [],
   "source": [
    "test_optimizer_1 = SGD(lr=0.01, momentum=0.9, nesterov=True)"
   ]
  },
  {
   "cell_type": "code",
   "execution_count": 7,
   "metadata": {
    "collapsed": true
   },
   "outputs": [],
   "source": [
    "#Buliding the first layer (Dense Layer) of the network\n",
    "def build_layer_1(nodes):\n",
    "    \n",
    "    model = Sequential()\n",
    "    model.add(Dense(nodes, input_shape=(784,)))\n",
    "    return model"
   ]
  },
  {
   "cell_type": "code",
   "execution_count": 8,
   "metadata": {
    "collapsed": true
   },
   "outputs": [],
   "source": [
    "#Adding dropout to the model(network)\n",
    "def add_droput(model, x):\n",
    "    \n",
    "    model.add(Dropout(x))\n",
    "    return model"
   ]
  },
  {
   "cell_type": "code",
   "execution_count": 9,
   "metadata": {
    "collapsed": true
   },
   "outputs": [],
   "source": [
    "#Adding a dense layer to the model(network)\n",
    "def add_dense(model,nodes):\n",
    "    \n",
    "    model.add(Dense(nodes))\n",
    "    return model"
   ]
  },
  {
   "cell_type": "code",
   "execution_count": 10,
   "metadata": {
    "collapsed": true
   },
   "outputs": [],
   "source": [
    "#Adding a activation layer to the model(network)\n",
    "def add_activation(model, activation):\n",
    "    \n",
    "    model.add(Activation(activation))\n",
    "    return model"
   ]
  },
  {
   "cell_type": "code",
   "execution_count": 11,
   "metadata": {
    "collapsed": true
   },
   "outputs": [],
   "source": [
    "#The final step in building the model, compiling and fitting the model to the data\n",
    "def build_layer_final(model, loss = 'categorical_crossentropy', optimizer = 'SGD',\\\n",
    "                           metrics = ['accuracy']):\n",
    "    \n",
    "    model.add(Dense(nb_classes))\n",
    "    model.add(Activation('softmax'))\n",
    "    \n",
    "    compile_fit_score_model(model, loss, optimizer, metrics)"
   ]
  },
  {
   "cell_type": "code",
   "execution_count": 12,
   "metadata": {
    "collapsed": true
   },
   "outputs": [],
   "source": [
    "#Compiling, fitting and scoring the model\n",
    "def compile_fit_score_model(model_final, loss, optimizer, metrics):\n",
    "    \n",
    "    model_final.compile(loss = loss,\n",
    "              optimizer = optimizer,\n",
    "              metrics = metrics)\n",
    "    \n",
    "    model_final.fit(X_train, Y_train, batch_size=batch_size, epochs=nb_epoch,verbose=1, \\\n",
    "                    validation_data=(X_test, Y_test))\n",
    "    \n",
    "    score = model_final.evaluate(X_test, Y_test, verbose=0)\n",
    "    \n",
    "    print('Test score:', score[0])\n",
    "    print('Test accuracy:', score[1])"
   ]
  },
  {
   "cell_type": "code",
   "execution_count": 13,
   "metadata": {
    "collapsed": true
   },
   "outputs": [],
   "source": [
    "#2 Hidden Layers - TanH Activation\n",
    "def build_layers():\n",
    "    \n",
    "    #Input Layer + First hidden layer\n",
    "    model = build_layer_1(512)\n",
    "    model = add_activation(model, 'tanh')\n",
    "    model = add_droput(model,0.2)\n",
    "\n",
    "    #Hidden Layers\n",
    "    model = add_dense(model,512)\n",
    "    model = add_activation(model, 'tanh')\n",
    "    model = add_droput(model,0.2)\n",
    "    \n",
    "    #Output Layer\n",
    "    build_layer_final(model)"
   ]
  },
  {
   "cell_type": "code",
   "execution_count": 14,
   "metadata": {},
   "outputs": [
    {
     "name": "stdout",
     "output_type": "stream",
     "text": [
      "Train on 60000 samples, validate on 10000 samples\n",
      "Epoch 1/20\n",
      "60000/60000 [==============================] - 5s 82us/step - loss: 0.6014 - acc: 0.8256 - val_loss: 0.3264 - val_acc: 0.9077\n",
      "Epoch 2/20\n",
      "60000/60000 [==============================] - 5s 80us/step - loss: 0.3512 - acc: 0.8967 - val_loss: 0.2733 - val_acc: 0.9209\n",
      "Epoch 3/20\n",
      "60000/60000 [==============================] - 5s 92us/step - loss: 0.3031 - acc: 0.9108 - val_loss: 0.2478 - val_acc: 0.9287\n",
      "Epoch 4/20\n",
      "60000/60000 [==============================] - 5s 80us/step - loss: 0.2770 - acc: 0.9180 - val_loss: 0.2308 - val_acc: 0.9334\n",
      "Epoch 5/20\n",
      "60000/60000 [==============================] - 5s 92us/step - loss: 0.2562 - acc: 0.9229 - val_loss: 0.2174 - val_acc: 0.9370\n",
      "Epoch 6/20\n",
      "60000/60000 [==============================] - 5s 80us/step - loss: 0.2421 - acc: 0.9283 - val_loss: 0.2061 - val_acc: 0.9407\n",
      "Epoch 7/20\n",
      "60000/60000 [==============================] - 5s 80us/step - loss: 0.2275 - acc: 0.9331 - val_loss: 0.1951 - val_acc: 0.9414\n",
      "Epoch 8/20\n",
      "60000/60000 [==============================] - 5s 80us/step - loss: 0.2158 - acc: 0.9366 - val_loss: 0.1859 - val_acc: 0.9454\n",
      "Epoch 9/20\n",
      "60000/60000 [==============================] - 6s 105us/step - loss: 0.2059 - acc: 0.9405 - val_loss: 0.1774 - val_acc: 0.9466\n",
      "Epoch 10/20\n",
      "60000/60000 [==============================] - 6s 105us/step - loss: 0.1951 - acc: 0.9430 - val_loss: 0.1704 - val_acc: 0.9488\n",
      "Epoch 11/20\n",
      "60000/60000 [==============================] - 5s 81us/step - loss: 0.1887 - acc: 0.9450 - val_loss: 0.1644 - val_acc: 0.9503\n",
      "Epoch 12/20\n",
      "60000/60000 [==============================] - 5s 78us/step - loss: 0.1795 - acc: 0.9472 - val_loss: 0.1587 - val_acc: 0.9517\n",
      "Epoch 13/20\n",
      "60000/60000 [==============================] - 5s 78us/step - loss: 0.1733 - acc: 0.9487 - val_loss: 0.1516 - val_acc: 0.9533\n",
      "Epoch 14/20\n",
      "60000/60000 [==============================] - 5s 78us/step - loss: 0.1668 - acc: 0.9505 - val_loss: 0.1471 - val_acc: 0.9544\n",
      "Epoch 15/20\n",
      "60000/60000 [==============================] - 5s 80us/step - loss: 0.1600 - acc: 0.9533 - val_loss: 0.1436 - val_acc: 0.9561\n",
      "Epoch 16/20\n",
      "60000/60000 [==============================] - 5s 81us/step - loss: 0.1560 - acc: 0.9540 - val_loss: 0.1377 - val_acc: 0.9574\n",
      "Epoch 17/20\n",
      "60000/60000 [==============================] - 5s 81us/step - loss: 0.1490 - acc: 0.9556 - val_loss: 0.1343 - val_acc: 0.9579\n",
      "Epoch 18/20\n",
      "60000/60000 [==============================] - 5s 81us/step - loss: 0.1441 - acc: 0.9575 - val_loss: 0.1297 - val_acc: 0.9605\n",
      "Epoch 19/20\n",
      "60000/60000 [==============================] - 5s 81us/step - loss: 0.1392 - acc: 0.9587 - val_loss: 0.1269 - val_acc: 0.9607\n",
      "Epoch 20/20\n",
      "60000/60000 [==============================] - 5s 81us/step - loss: 0.1361 - acc: 0.9601 - val_loss: 0.1236 - val_acc: 0.9620\n",
      "Test score: 0.123566318235\n",
      "Test accuracy: 0.962\n"
     ]
    }
   ],
   "source": [
    "build_layers()"
   ]
  },
  {
   "cell_type": "code",
   "execution_count": 17,
   "metadata": {
    "collapsed": true
   },
   "outputs": [],
   "source": [
    "#2 Hidden Layers - Relu Activation\n",
    "def build_layers():\n",
    "    \n",
    "    #Input Layer + First hidden layer\n",
    "    model = build_layer_1(512)\n",
    "    model = add_activation(model, 'relu')\n",
    "    model = add_droput(model,0.2)\n",
    "\n",
    "    #Hidden Layers\n",
    "    model = add_dense(model,512)\n",
    "    model = add_activation(model, 'relu')\n",
    "    model = add_droput(model,0.2)\n",
    "    \n",
    "    #Output Layer\n",
    "    build_layer_final(model)"
   ]
  },
  {
   "cell_type": "code",
   "execution_count": 18,
   "metadata": {},
   "outputs": [
    {
     "name": "stdout",
     "output_type": "stream",
     "text": [
      "Train on 60000 samples, validate on 10000 samples\n",
      "Epoch 1/20\n",
      "60000/60000 [==============================] - 5s 86us/step - loss: 0.6679 - acc: 0.7960 - val_loss: 0.2985 - val_acc: 0.9159\n",
      "Epoch 2/20\n",
      "60000/60000 [==============================] - 7s 124us/step - loss: 0.3431 - acc: 0.8981 - val_loss: 0.2362 - val_acc: 0.9328\n",
      "Epoch 3/20\n",
      "60000/60000 [==============================] - 5s 81us/step - loss: 0.2837 - acc: 0.9161 - val_loss: 0.2051 - val_acc: 0.9409\n",
      "Epoch 4/20\n",
      "60000/60000 [==============================] - 5s 82us/step - loss: 0.2433 - acc: 0.9273 - val_loss: 0.1815 - val_acc: 0.9472\n",
      "Epoch 5/20\n",
      "60000/60000 [==============================] - 5s 82us/step - loss: 0.2194 - acc: 0.9345 - val_loss: 0.1647 - val_acc: 0.9518\n",
      "Epoch 6/20\n",
      "60000/60000 [==============================] - 5s 81us/step - loss: 0.2020 - acc: 0.9411 - val_loss: 0.1540 - val_acc: 0.9540\n",
      "Epoch 7/20\n",
      "60000/60000 [==============================] - 5s 82us/step - loss: 0.1855 - acc: 0.9448 - val_loss: 0.1439 - val_acc: 0.9561\n",
      "Epoch 8/20\n",
      "60000/60000 [==============================] - 5s 82us/step - loss: 0.1728 - acc: 0.9483 - val_loss: 0.1338 - val_acc: 0.9610\n",
      "Epoch 9/20\n",
      "60000/60000 [==============================] - 5s 83us/step - loss: 0.1621 - acc: 0.9522 - val_loss: 0.1270 - val_acc: 0.9624\n",
      "Epoch 10/20\n",
      "60000/60000 [==============================] - 5s 84us/step - loss: 0.1517 - acc: 0.9547 - val_loss: 0.1206 - val_acc: 0.9651\n",
      "Epoch 11/20\n",
      "60000/60000 [==============================] - 5s 83us/step - loss: 0.1423 - acc: 0.9568 - val_loss: 0.1161 - val_acc: 0.9654\n",
      "Epoch 12/20\n",
      "60000/60000 [==============================] - 5s 86us/step - loss: 0.1359 - acc: 0.9588 - val_loss: 0.1113 - val_acc: 0.9675\n",
      "Epoch 13/20\n",
      "60000/60000 [==============================] - 5s 83us/step - loss: 0.1285 - acc: 0.9620 - val_loss: 0.1074 - val_acc: 0.9680\n",
      "Epoch 14/20\n",
      "60000/60000 [==============================] - 5s 84us/step - loss: 0.1249 - acc: 0.9631 - val_loss: 0.1042 - val_acc: 0.9698\n",
      "Epoch 15/20\n",
      "60000/60000 [==============================] - 5s 81us/step - loss: 0.1197 - acc: 0.9644 - val_loss: 0.1005 - val_acc: 0.9690\n",
      "Epoch 16/20\n",
      "60000/60000 [==============================] - 5s 83us/step - loss: 0.1118 - acc: 0.9667 - val_loss: 0.0966 - val_acc: 0.9703\n",
      "Epoch 17/20\n",
      "60000/60000 [==============================] - 5s 84us/step - loss: 0.1099 - acc: 0.9667 - val_loss: 0.0950 - val_acc: 0.9707\n",
      "Epoch 18/20\n",
      "60000/60000 [==============================] - 5s 85us/step - loss: 0.1055 - acc: 0.9687 - val_loss: 0.0926 - val_acc: 0.9721\n",
      "Epoch 19/20\n",
      "60000/60000 [==============================] - 5s 85us/step - loss: 0.1003 - acc: 0.9703 - val_loss: 0.0908 - val_acc: 0.9714\n",
      "Epoch 20/20\n",
      "60000/60000 [==============================] - 5s 83us/step - loss: 0.0986 - acc: 0.9701 - val_loss: 0.0887 - val_acc: 0.9724\n",
      "Test score: 0.0887019019775\n",
      "Test accuracy: 0.9724\n"
     ]
    }
   ],
   "source": [
    "build_layers()"
   ]
  },
  {
   "cell_type": "code",
   "execution_count": 19,
   "metadata": {
    "collapsed": true
   },
   "outputs": [],
   "source": [
    "#2 Hidden Layers - TanH Activation, Increase number of nodes\n",
    "def build_layers():\n",
    "    \n",
    "    #Input Layer + First hidden layer\n",
    "    model = build_layer_1(1024)\n",
    "    model = add_activation(model, 'tanh')\n",
    "    model = add_droput(model,0.2)\n",
    "\n",
    "    #Hidden Layers\n",
    "    model = add_dense(model,1024)\n",
    "    model = add_activation(model, 'tanh')\n",
    "    model = add_droput(model,0.2)\n",
    "    \n",
    "    #Output Layer\n",
    "    build_layer_final(model)"
   ]
  },
  {
   "cell_type": "code",
   "execution_count": 20,
   "metadata": {},
   "outputs": [
    {
     "name": "stdout",
     "output_type": "stream",
     "text": [
      "Train on 60000 samples, validate on 10000 samples\n",
      "Epoch 1/20\n",
      "60000/60000 [==============================] - 13s 218us/step - loss: 0.5321 - acc: 0.8432 - val_loss: 0.3021 - val_acc: 0.9118\n",
      "Epoch 2/20\n",
      "60000/60000 [==============================] - 13s 217us/step - loss: 0.3212 - acc: 0.9051 - val_loss: 0.2584 - val_acc: 0.9248\n",
      "Epoch 3/20\n",
      "60000/60000 [==============================] - 13s 218us/step - loss: 0.2823 - acc: 0.9172 - val_loss: 0.2353 - val_acc: 0.9311\n",
      "Epoch 4/20\n",
      "60000/60000 [==============================] - 12s 207us/step - loss: 0.2569 - acc: 0.9256 - val_loss: 0.2168 - val_acc: 0.9372\n",
      "Epoch 5/20\n",
      "60000/60000 [==============================] - 12s 194us/step - loss: 0.2376 - acc: 0.9307 - val_loss: 0.2038 - val_acc: 0.9411\n",
      "Epoch 6/20\n",
      "60000/60000 [==============================] - 79s 1ms/step - loss: 0.2247 - acc: 0.9339 - val_loss: 0.1933 - val_acc: 0.9431\n",
      "Epoch 7/20\n",
      "60000/60000 [==============================] - 15s 242us/step - loss: 0.2102 - acc: 0.9387 - val_loss: 0.1816 - val_acc: 0.9475\n",
      "Epoch 8/20\n",
      "60000/60000 [==============================] - 13s 219us/step - loss: 0.1988 - acc: 0.9421 - val_loss: 0.1732 - val_acc: 0.9474\n",
      "Epoch 9/20\n",
      "60000/60000 [==============================] - 13s 218us/step - loss: 0.1885 - acc: 0.9449 - val_loss: 0.1644 - val_acc: 0.9518\n",
      "Epoch 10/20\n",
      "60000/60000 [==============================] - 13s 216us/step - loss: 0.1795 - acc: 0.9477 - val_loss: 0.1582 - val_acc: 0.9526\n",
      "Epoch 11/20\n",
      "60000/60000 [==============================] - 13s 221us/step - loss: 0.1709 - acc: 0.9499 - val_loss: 0.1510 - val_acc: 0.9550\n",
      "Epoch 12/20\n",
      "60000/60000 [==============================] - 13s 220us/step - loss: 0.1626 - acc: 0.9523 - val_loss: 0.1453 - val_acc: 0.9573\n",
      "Epoch 13/20\n",
      "60000/60000 [==============================] - 13s 222us/step - loss: 0.1557 - acc: 0.9542 - val_loss: 0.1392 - val_acc: 0.9585\n",
      "Epoch 14/20\n",
      "60000/60000 [==============================] - 13s 222us/step - loss: 0.1486 - acc: 0.9563 - val_loss: 0.1336 - val_acc: 0.9619\n",
      "Epoch 15/20\n",
      "60000/60000 [==============================] - 13s 213us/step - loss: 0.1422 - acc: 0.9591 - val_loss: 0.1293 - val_acc: 0.9621\n",
      "Epoch 16/20\n",
      "60000/60000 [==============================] - 14s 234us/step - loss: 0.1368 - acc: 0.9599 - val_loss: 0.1256 - val_acc: 0.9638\n",
      "Epoch 17/20\n",
      "60000/60000 [==============================] - 15s 252us/step - loss: 0.1331 - acc: 0.9610 - val_loss: 0.1216 - val_acc: 0.9641\n",
      "Epoch 18/20\n",
      "60000/60000 [==============================] - 14s 236us/step - loss: 0.1276 - acc: 0.9632 - val_loss: 0.1187 - val_acc: 0.9652\n",
      "Epoch 19/20\n",
      "60000/60000 [==============================] - 14s 238us/step - loss: 0.1236 - acc: 0.9631 - val_loss: 0.1148 - val_acc: 0.9667\n",
      "Epoch 20/20\n",
      "60000/60000 [==============================] - 14s 241us/step - loss: 0.1184 - acc: 0.9657 - val_loss: 0.1129 - val_acc: 0.9673\n",
      "Test score: 0.112943628983\n",
      "Test accuracy: 0.9673\n"
     ]
    }
   ],
   "source": [
    "build_layers()"
   ]
  },
  {
   "cell_type": "code",
   "execution_count": 21,
   "metadata": {
    "collapsed": true
   },
   "outputs": [],
   "source": [
    "#3 Hidden Layers - TanH Activation, Increase number of hidden layers\n",
    "def build_layers():\n",
    "    \n",
    "    #Input Layer + First hidden layer\n",
    "    model = build_layer_1(512)\n",
    "    model = add_activation(model, 'tanh')\n",
    "    model = add_droput(model,0.2)\n",
    "\n",
    "    #Hidden Layers\n",
    "    model = add_dense(model,1024)\n",
    "    model = add_activation(model, 'tanh')\n",
    "    model = add_droput(model,0.2)\n",
    "    model = add_dense(model,512)\n",
    "    model = add_activation(model, 'tanh')\n",
    "    model = add_droput(model,0.2)\n",
    "    \n",
    "    #Output Layer\n",
    "    build_layer_final(model)"
   ]
  },
  {
   "cell_type": "code",
   "execution_count": 22,
   "metadata": {},
   "outputs": [
    {
     "name": "stdout",
     "output_type": "stream",
     "text": [
      "Train on 60000 samples, validate on 10000 samples\n",
      "Epoch 1/20\n",
      "60000/60000 [==============================] - 11s 187us/step - loss: 0.5808 - acc: 0.8282 - val_loss: 0.3068 - val_acc: 0.9129\n",
      "Epoch 2/20\n",
      "60000/60000 [==============================] - 13s 223us/step - loss: 0.3378 - acc: 0.8991 - val_loss: 0.2620 - val_acc: 0.9227\n",
      "Epoch 3/20\n",
      "60000/60000 [==============================] - 12s 197us/step - loss: 0.2968 - acc: 0.9122 - val_loss: 0.2382 - val_acc: 0.9306\n",
      "Epoch 4/20\n",
      "60000/60000 [==============================] - 11s 186us/step - loss: 0.2712 - acc: 0.9192 - val_loss: 0.2213 - val_acc: 0.9359\n",
      "Epoch 5/20\n",
      "60000/60000 [==============================] - 11s 180us/step - loss: 0.2506 - acc: 0.9247 - val_loss: 0.2068 - val_acc: 0.9397\n",
      "Epoch 6/20\n",
      "60000/60000 [==============================] - 11s 179us/step - loss: 0.2342 - acc: 0.9303 - val_loss: 0.1949 - val_acc: 0.9434\n",
      "Epoch 7/20\n",
      "60000/60000 [==============================] - 10s 160us/step - loss: 0.2197 - acc: 0.9349 - val_loss: 0.1836 - val_acc: 0.9459\n",
      "Epoch 8/20\n",
      "60000/60000 [==============================] - 10s 159us/step - loss: 0.2075 - acc: 0.9381 - val_loss: 0.1737 - val_acc: 0.9497\n",
      "Epoch 9/20\n",
      "60000/60000 [==============================] - 10s 165us/step - loss: 0.1957 - acc: 0.9415 - val_loss: 0.1653 - val_acc: 0.9514\n",
      "Epoch 10/20\n",
      "60000/60000 [==============================] - 11s 180us/step - loss: 0.1850 - acc: 0.9449 - val_loss: 0.1576 - val_acc: 0.9535\n",
      "Epoch 11/20\n",
      "60000/60000 [==============================] - 10s 172us/step - loss: 0.1774 - acc: 0.9471 - val_loss: 0.1513 - val_acc: 0.9544\n",
      "Epoch 12/20\n",
      "60000/60000 [==============================] - 11s 179us/step - loss: 0.1681 - acc: 0.9498 - val_loss: 0.1464 - val_acc: 0.9558\n",
      "Epoch 13/20\n",
      "60000/60000 [==============================] - 10s 175us/step - loss: 0.1607 - acc: 0.9512 - val_loss: 0.1392 - val_acc: 0.9584\n",
      "Epoch 14/20\n",
      "60000/60000 [==============================] - 10s 174us/step - loss: 0.1553 - acc: 0.9530 - val_loss: 0.1329 - val_acc: 0.9603\n",
      "Epoch 15/20\n",
      "60000/60000 [==============================] - 13s 214us/step - loss: 0.1470 - acc: 0.9563 - val_loss: 0.1283 - val_acc: 0.9609\n",
      "Epoch 16/20\n",
      "60000/60000 [==============================] - 13s 210us/step - loss: 0.1414 - acc: 0.9571 - val_loss: 0.1256 - val_acc: 0.9616\n",
      "Epoch 17/20\n",
      "60000/60000 [==============================] - 11s 186us/step - loss: 0.1367 - acc: 0.9581 - val_loss: 0.1206 - val_acc: 0.9630\n",
      "Epoch 18/20\n",
      "60000/60000 [==============================] - 10s 175us/step - loss: 0.1319 - acc: 0.9606 - val_loss: 0.1167 - val_acc: 0.9643\n",
      "Epoch 19/20\n",
      "60000/60000 [==============================] - 11s 175us/step - loss: 0.1289 - acc: 0.9607 - val_loss: 0.1143 - val_acc: 0.9645\n",
      "Epoch 20/20\n",
      "60000/60000 [==============================] - 11s 177us/step - loss: 0.1225 - acc: 0.9627 - val_loss: 0.1114 - val_acc: 0.9663\n",
      "Test score: 0.111354791443\n",
      "Test accuracy: 0.9663\n"
     ]
    }
   ],
   "source": [
    "build_layers()"
   ]
  },
  {
   "cell_type": "code",
   "execution_count": 23,
   "metadata": {
    "collapsed": true
   },
   "outputs": [],
   "source": [
    "#3 Hidden Layers - TanH Activation,  RMSprop Optimizer\n",
    "def build_layers():\n",
    "    \n",
    "    #Input Layer + First hidden layer\n",
    "    model = build_layer_1(512)\n",
    "    model = add_activation(model, 'tanh')\n",
    "    model = add_droput(model,0.2)\n",
    "\n",
    "    #Hidden Layers\n",
    "    model = add_dense(model,1024)\n",
    "    model = add_activation(model, 'tanh')\n",
    "    model = add_droput(model,0.2)\n",
    "    model = add_dense(model,512)\n",
    "    model = add_activation(model, 'tanh')\n",
    "    model = add_droput(model,0.2)\n",
    "    \n",
    "    #Output Layer\n",
    "    build_layer_final(model, optimizer = 'rmsprop')"
   ]
  },
  {
   "cell_type": "code",
   "execution_count": 24,
   "metadata": {},
   "outputs": [
    {
     "name": "stdout",
     "output_type": "stream",
     "text": [
      "Train on 60000 samples, validate on 10000 samples\n",
      "Epoch 1/20\n",
      "60000/60000 [==============================] - 14s 226us/step - loss: 0.3615 - acc: 0.8968 - val_loss: 0.1489 - val_acc: 0.9532\n",
      "Epoch 2/20\n",
      "60000/60000 [==============================] - 13s 221us/step - loss: 0.1438 - acc: 0.9563 - val_loss: 0.1056 - val_acc: 0.9699\n",
      "Epoch 3/20\n",
      "60000/60000 [==============================] - 13s 225us/step - loss: 0.1060 - acc: 0.9675 - val_loss: 0.0878 - val_acc: 0.9736\n",
      "Epoch 4/20\n",
      "60000/60000 [==============================] - 13s 223us/step - loss: 0.0856 - acc: 0.9732 - val_loss: 0.0839 - val_acc: 0.9749\n",
      "Epoch 5/20\n",
      "60000/60000 [==============================] - 16s 259us/step - loss: 0.0722 - acc: 0.9774 - val_loss: 0.0756 - val_acc: 0.9770\n",
      "Epoch 6/20\n",
      "60000/60000 [==============================] - 14s 241us/step - loss: 0.0602 - acc: 0.9812 - val_loss: 0.0816 - val_acc: 0.9765\n",
      "Epoch 7/20\n",
      "60000/60000 [==============================] - 15s 242us/step - loss: 0.0513 - acc: 0.9836 - val_loss: 0.1164 - val_acc: 0.9656\n",
      "Epoch 8/20\n",
      "60000/60000 [==============================] - 16s 264us/step - loss: 0.0486 - acc: 0.9841 - val_loss: 0.0792 - val_acc: 0.9774\n",
      "Epoch 9/20\n",
      "60000/60000 [==============================] - 14s 238us/step - loss: 0.0421 - acc: 0.9865 - val_loss: 0.0794 - val_acc: 0.9782\n",
      "Epoch 10/20\n",
      "60000/60000 [==============================] - 13s 224us/step - loss: 0.0376 - acc: 0.9880 - val_loss: 0.0777 - val_acc: 0.9777\n",
      "Epoch 11/20\n",
      "60000/60000 [==============================] - 13s 222us/step - loss: 0.0364 - acc: 0.9882 - val_loss: 0.0752 - val_acc: 0.9796\n",
      "Epoch 12/20\n",
      "60000/60000 [==============================] - 13s 221us/step - loss: 0.0318 - acc: 0.9898 - val_loss: 0.0783 - val_acc: 0.9808\n",
      "Epoch 13/20\n",
      "60000/60000 [==============================] - 13s 224us/step - loss: 0.0294 - acc: 0.9904 - val_loss: 0.0776 - val_acc: 0.9801\n",
      "Epoch 14/20\n",
      "60000/60000 [==============================] - 14s 235us/step - loss: 0.0293 - acc: 0.9904 - val_loss: 0.0872 - val_acc: 0.9774\n",
      "Epoch 15/20\n",
      "60000/60000 [==============================] - 14s 238us/step - loss: 0.0263 - acc: 0.9916 - val_loss: 0.0894 - val_acc: 0.9784\n",
      "Epoch 16/20\n",
      "60000/60000 [==============================] - 14s 231us/step - loss: 0.0239 - acc: 0.9921 - val_loss: 0.0889 - val_acc: 0.9797\n",
      "Epoch 17/20\n",
      "60000/60000 [==============================] - 13s 210us/step - loss: 0.0235 - acc: 0.9923 - val_loss: 0.0906 - val_acc: 0.9800\n",
      "Epoch 18/20\n",
      "60000/60000 [==============================] - 13s 223us/step - loss: 0.0213 - acc: 0.9929 - val_loss: 0.0790 - val_acc: 0.9812\n",
      "Epoch 19/20\n",
      "60000/60000 [==============================] - 13s 223us/step - loss: 0.0212 - acc: 0.9930 - val_loss: 0.0837 - val_acc: 0.9810\n",
      "Epoch 20/20\n",
      "60000/60000 [==============================] - 13s 224us/step - loss: 0.0204 - acc: 0.9933 - val_loss: 0.0872 - val_acc: 0.9797\n",
      "Test score: 0.0872079690371\n",
      "Test accuracy: 0.9797\n"
     ]
    }
   ],
   "source": [
    "build_layers()"
   ]
  },
  {
   "cell_type": "code",
   "execution_count": 27,
   "metadata": {
    "collapsed": true
   },
   "outputs": [],
   "source": [
    "#3 Hidden Layers - TanH Activation,  SGD with Momentum Optimizer\n",
    "def build_layers():\n",
    "    \n",
    "    #Input Layer\n",
    "    model = build_layer_1(512)\n",
    "    model = add_activation(model, 'tanh')\n",
    "    model = add_droput(model,0.2)\n",
    "\n",
    "    #Hidden Layers\n",
    "    model = add_dense(model,1024)\n",
    "    model = add_activation(model, 'tanh')\n",
    "    model = add_droput(model,0.2)\n",
    "    model = add_dense(model,512)\n",
    "    model = add_activation(model, 'tanh')\n",
    "    model = add_droput(model,0.2)\n",
    "    \n",
    "    #Output Layer\n",
    "    build_layer_final(model, optimizer = test_optimizer_1)"
   ]
  },
  {
   "cell_type": "code",
   "execution_count": 28,
   "metadata": {},
   "outputs": [
    {
     "name": "stdout",
     "output_type": "stream",
     "text": [
      "Train on 60000 samples, validate on 10000 samples\n",
      "Epoch 1/20\n",
      "60000/60000 [==============================] - 12s 197us/step - loss: 0.3248 - acc: 0.9021 - val_loss: 0.1704 - val_acc: 0.9496\n",
      "Epoch 2/20\n",
      "60000/60000 [==============================] - 12s 194us/step - loss: 0.1755 - acc: 0.9465 - val_loss: 0.1270 - val_acc: 0.9625\n",
      "Epoch 3/20\n",
      "60000/60000 [==============================] - 12s 194us/step - loss: 0.1313 - acc: 0.9593 - val_loss: 0.1029 - val_acc: 0.9698\n",
      "Epoch 4/20\n",
      "60000/60000 [==============================] - 12s 194us/step - loss: 0.1059 - acc: 0.9673 - val_loss: 0.0964 - val_acc: 0.9693\n",
      "Epoch 5/20\n",
      "60000/60000 [==============================] - 12s 196us/step - loss: 0.0879 - acc: 0.9728 - val_loss: 0.0776 - val_acc: 0.9772\n",
      "Epoch 6/20\n",
      "60000/60000 [==============================] - 14s 231us/step - loss: 0.0781 - acc: 0.9753 - val_loss: 0.0752 - val_acc: 0.9770\n",
      "Epoch 7/20\n",
      "60000/60000 [==============================] - 12s 192us/step - loss: 0.0669 - acc: 0.9787 - val_loss: 0.0671 - val_acc: 0.9795\n",
      "Epoch 8/20\n",
      "60000/60000 [==============================] - 11s 185us/step - loss: 0.0593 - acc: 0.9804 - val_loss: 0.0680 - val_acc: 0.9789\n",
      "Epoch 9/20\n",
      "60000/60000 [==============================] - 11s 184us/step - loss: 0.0540 - acc: 0.9824 - val_loss: 0.0699 - val_acc: 0.9794\n",
      "Epoch 10/20\n",
      "60000/60000 [==============================] - 13s 212us/step - loss: 0.0474 - acc: 0.9842 - val_loss: 0.0658 - val_acc: 0.9798\n",
      "Epoch 11/20\n",
      "60000/60000 [==============================] - 11s 177us/step - loss: 0.0428 - acc: 0.9855 - val_loss: 0.0601 - val_acc: 0.9815\n",
      "Epoch 12/20\n",
      "60000/60000 [==============================] - 11s 175us/step - loss: 0.0389 - acc: 0.9870 - val_loss: 0.0684 - val_acc: 0.9812\n",
      "Epoch 13/20\n",
      "60000/60000 [==============================] - 11s 179us/step - loss: 0.0367 - acc: 0.9877 - val_loss: 0.0678 - val_acc: 0.9811\n",
      "Epoch 14/20\n",
      "60000/60000 [==============================] - 12s 196us/step - loss: 0.0325 - acc: 0.9889 - val_loss: 0.0656 - val_acc: 0.9808\n",
      "Epoch 15/20\n",
      "60000/60000 [==============================] - 12s 193us/step - loss: 0.0312 - acc: 0.9896 - val_loss: 0.0618 - val_acc: 0.9818\n",
      "Epoch 16/20\n",
      "60000/60000 [==============================] - 12s 196us/step - loss: 0.0278 - acc: 0.9906 - val_loss: 0.0641 - val_acc: 0.9826\n",
      "Epoch 17/20\n",
      "60000/60000 [==============================] - 11s 191us/step - loss: 0.0272 - acc: 0.9907 - val_loss: 0.0599 - val_acc: 0.9813\n",
      "Epoch 18/20\n",
      "60000/60000 [==============================] - 11s 184us/step - loss: 0.0241 - acc: 0.9920 - val_loss: 0.0631 - val_acc: 0.9828\n",
      "Epoch 19/20\n",
      "60000/60000 [==============================] - 12s 201us/step - loss: 0.0211 - acc: 0.9930 - val_loss: 0.0600 - val_acc: 0.9829\n",
      "Epoch 20/20\n",
      "60000/60000 [==============================] - 12s 199us/step - loss: 0.0207 - acc: 0.9929 - val_loss: 0.0646 - val_acc: 0.9823\n",
      "Test score: 0.0645916596997\n",
      "Test accuracy: 0.9823\n"
     ]
    }
   ],
   "source": [
    "build_layers()"
   ]
  },
  {
   "cell_type": "code",
   "execution_count": 29,
   "metadata": {
    "collapsed": true
   },
   "outputs": [],
   "source": [
    "#3 Hidden Layers - TanH Activation, Adagrad Optimizer\n",
    "def build_layers():\n",
    "    \n",
    "    #Input Layer\n",
    "    model = build_layer_1(512)\n",
    "    model = add_activation(model, 'tanh')\n",
    "    model = add_droput(model,0.2)\n",
    "\n",
    "    #Hidden Layers\n",
    "    model = add_dense(model,1024)\n",
    "    model = add_activation(model, 'tanh')\n",
    "    model = add_droput(model,0.2)\n",
    "    model = add_dense(model,512)\n",
    "    model = add_activation(model, 'tanh')\n",
    "    model = add_droput(model,0.2)\n",
    "    \n",
    "    #Output Layer\n",
    "    build_layer_final(model, optimizer = 'adagrad')"
   ]
  },
  {
   "cell_type": "code",
   "execution_count": 30,
   "metadata": {},
   "outputs": [
    {
     "name": "stdout",
     "output_type": "stream",
     "text": [
      "Train on 60000 samples, validate on 10000 samples\n",
      "Epoch 1/20\n",
      "60000/60000 [==============================] - 13s 210us/step - loss: 0.5221 - acc: 0.8756 - val_loss: 0.1544 - val_acc: 0.9515\n",
      "Epoch 2/20\n",
      "60000/60000 [==============================] - 13s 220us/step - loss: 0.1362 - acc: 0.9583 - val_loss: 0.1040 - val_acc: 0.9684\n",
      "Epoch 3/20\n",
      "60000/60000 [==============================] - 12s 201us/step - loss: 0.1007 - acc: 0.9690 - val_loss: 0.0972 - val_acc: 0.9707\n",
      "Epoch 4/20\n",
      "60000/60000 [==============================] - 12s 204us/step - loss: 0.0784 - acc: 0.9757 - val_loss: 0.0821 - val_acc: 0.9757\n",
      "Epoch 5/20\n",
      "60000/60000 [==============================] - 12s 204us/step - loss: 0.0643 - acc: 0.9799 - val_loss: 0.0768 - val_acc: 0.9775\n",
      "Epoch 6/20\n",
      "60000/60000 [==============================] - 12s 203us/step - loss: 0.0541 - acc: 0.9831 - val_loss: 0.0767 - val_acc: 0.9768\n",
      "Epoch 7/20\n",
      "60000/60000 [==============================] - 13s 209us/step - loss: 0.0468 - acc: 0.9850 - val_loss: 0.0723 - val_acc: 0.9784\n",
      "Epoch 8/20\n",
      "60000/60000 [==============================] - 12s 201us/step - loss: 0.0391 - acc: 0.9876 - val_loss: 0.0648 - val_acc: 0.9806\n",
      "Epoch 9/20\n",
      "60000/60000 [==============================] - 12s 200us/step - loss: 0.0348 - acc: 0.9889 - val_loss: 0.0658 - val_acc: 0.9804\n",
      "Epoch 10/20\n",
      "60000/60000 [==============================] - 12s 202us/step - loss: 0.0304 - acc: 0.9903 - val_loss: 0.0674 - val_acc: 0.9805\n",
      "Epoch 11/20\n",
      "60000/60000 [==============================] - 12s 204us/step - loss: 0.0288 - acc: 0.9904 - val_loss: 0.0661 - val_acc: 0.9806\n",
      "Epoch 12/20\n",
      "60000/60000 [==============================] - 12s 203us/step - loss: 0.0259 - acc: 0.9912 - val_loss: 0.0680 - val_acc: 0.9806\n",
      "Epoch 13/20\n",
      "60000/60000 [==============================] - 12s 203us/step - loss: 0.0224 - acc: 0.9927 - val_loss: 0.0656 - val_acc: 0.9806\n",
      "Epoch 14/20\n",
      "60000/60000 [==============================] - 12s 202us/step - loss: 0.0209 - acc: 0.9930 - val_loss: 0.0641 - val_acc: 0.9817\n",
      "Epoch 15/20\n",
      "60000/60000 [==============================] - 12s 204us/step - loss: 0.0195 - acc: 0.9937 - val_loss: 0.0702 - val_acc: 0.9807\n",
      "Epoch 16/20\n",
      "60000/60000 [==============================] - 12s 205us/step - loss: 0.0174 - acc: 0.9945 - val_loss: 0.0653 - val_acc: 0.9821\n",
      "Epoch 17/20\n",
      "60000/60000 [==============================] - 12s 203us/step - loss: 0.0162 - acc: 0.9947 - val_loss: 0.0603 - val_acc: 0.9835\n",
      "Epoch 18/20\n",
      "60000/60000 [==============================] - 12s 204us/step - loss: 0.0158 - acc: 0.9948 - val_loss: 0.0667 - val_acc: 0.9818\n",
      "Epoch 19/20\n",
      "60000/60000 [==============================] - 12s 204us/step - loss: 0.0141 - acc: 0.9955 - val_loss: 0.0667 - val_acc: 0.9823\n",
      "Epoch 20/20\n",
      "60000/60000 [==============================] - 12s 205us/step - loss: 0.0137 - acc: 0.9958 - val_loss: 0.0637 - val_acc: 0.9834\n",
      "Test score: 0.0636616251657\n",
      "Test accuracy: 0.9834\n"
     ]
    }
   ],
   "source": [
    "build_layers()"
   ]
  },
  {
   "cell_type": "code",
   "execution_count": null,
   "metadata": {
    "collapsed": true
   },
   "outputs": [],
   "source": []
  }
 ],
 "metadata": {
  "kernelspec": {
   "display_name": "Python 3",
   "language": "python",
   "name": "python3"
  },
  "language_info": {
   "codemirror_mode": {
    "name": "ipython",
    "version": 3
   },
   "file_extension": ".py",
   "mimetype": "text/x-python",
   "name": "python",
   "nbconvert_exporter": "python",
   "pygments_lexer": "ipython3",
   "version": "3.6.3"
  }
 },
 "nbformat": 4,
 "nbformat_minor": 2
}
